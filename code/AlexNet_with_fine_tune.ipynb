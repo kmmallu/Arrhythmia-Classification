{
  "nbformat": 4,
  "nbformat_minor": 0,
  "metadata": {
    "colab": {
      "provenance": []
    },
    "kernelspec": {
      "name": "python3",
      "display_name": "Python 3"
    },
    "language_info": {
      "name": "python"
    }
  },
  "cells": [
    {
      "cell_type": "code",
      "source": [
        "\n",
        "import tensorflow as tf\n",
        "from tensorflow.keras.models import Sequential, Model\n",
        "from tensorflow.keras.layers import Dense, Flatten, Dropout, Conv1D, MaxPooling1D, GlobalAveragePooling1D\n",
        "from tensorflow.keras.optimizers import Adam\n",
        "from sklearn.model_selection import train_test_split\n",
        "\n",
        "# Assuming you have loaded your ECG dataset and labels\n",
        "# X, y = load_ecg_data()\n",
        "\n",
        "# Split the data into training and testing sets\n",
        "X_train, X_test, y_train, y_test = train_test_split(X, y, test_size=0.2, random_state=42)\n",
        "\n",
        "# Define the base AlexNet model\n",
        "def create_alexnet(input_shape, num_classes):\n",
        "    model = Sequential()\n",
        "\n",
        "    # Convolutional layers\n",
        "    model.add(Conv1D(96, 11, activation='relu', input_shape=input_shape))\n",
        "    model.add(MaxPooling1D(3))\n",
        "    model.add(Conv1D(256, 5, activation='relu'))\n",
        "    model.add(MaxPooling1D(3))\n",
        "    model.add(Conv1D(384, 3, activation='relu'))\n",
        "    model.add(Conv1D(384, 3, activation='relu'))\n",
        "    model.add(Conv1D(256, 3, activation='relu'))\n",
        "    model.add(MaxPooling1D(3))\n",
        "\n",
        "    # Flatten and fully connected layers\n",
        "    model.add(Flatten())\n",
        "    model.add(Dense(4096, activation='relu'))\n",
        "    model.add(Dropout(0.5))\n",
        "    model.add(Dense(4096, activation='relu'))\n",
        "    model.add(Dropout(0.5))\n",
        "    model.add(Dense(num_classes, activation='softmax'))\n",
        "\n",
        "    return model\n",
        "\n",
        "# Create the AlexNet model for your specific input shape and number of classes\n",
        "input_shape = X_train.shape[1:]  # Shape of one ECG signal\n",
        "num_classes = 5  # Replace with your actual number of classes\n",
        "alexnet_model = create_alexnet(input_shape, num_classes)\n",
        "\n",
        "# Load pre-trained weights (assuming you have a pre-trained AlexNet model)\n",
        "# alexnet_model.load_weights('path_to_pretrained_weights.h5', by_name=True)\n",
        "\n",
        "# Compile the model with Adam optimizer, a learning rate of 0.01, and categorical crossentropy loss\n",
        "adam_optimizer = Adam(lr=0.01)\n",
        "alexnet_model.compile(optimizer=adam_optimizer, loss='categorical_crossentropy', metrics=['accuracy'])\n",
        "\n",
        "# Train the model with a batch size of 128\n",
        "alexnet_model.fit(X_train, y_train, epochs=10, batch_size=128, validation_data=(X_test, y_test))\n",
        "\n",
        "\n"
      ],
      "metadata": {
        "id": "IOOohPwNGrKb"
      },
      "execution_count": null,
      "outputs": []
    }
  ]
}