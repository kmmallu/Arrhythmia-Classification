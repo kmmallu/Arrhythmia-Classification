{
  "nbformat": 4,
  "nbformat_minor": 0,
  "metadata": {
    "colab": {
      "provenance": []
    },
    "kernelspec": {
      "name": "python3",
      "display_name": "Python 3"
    },
    "language_info": {
      "name": "python"
    }
  },
  "cells": [
    {
      "cell_type": "code",
      "execution_count": null,
      "metadata": {
        "id": "zribyhRRHikB"
      },
      "outputs": [],
      "source": [
        "import numpy as np\n",
        "import tensorflow as tf\n",
        "from tensorflow.keras.models import Sequential, Model\n",
        "from tensorflow.keras.layers import Dense, Flatten, Dropout, Conv1D, MaxPooling1D, GlobalAveragePooling1D\n",
        "from tensorflow.keras.applications import ResNet50\n",
        "from tensorflow.keras.optimizers import Adam\n",
        "from sklearn.model_selection import train_test_split\n",
        "from tensorflow.keras.utils import to_categorical\n",
        "\n",
        "# Assuming you have loaded your ECG dataset and labels\n",
        "# X, y = load_ecg_data()\n",
        "\n",
        "# Convert labels to one-hot encoding\n",
        "num_classes = 5  # Replace with your actual number of classes\n",
        "y = to_categorical(y, num_classes)\n",
        "\n",
        "# Split the data into training and testing sets\n",
        "X_train, X_test, y_train, y_test = train_test_split(X, y, test_size=0.2, random_state=42)\n",
        "\n",
        "# Define the base ResNet-50 model\n",
        "def create_resnet50(input_shape, num_classes):\n",
        "    base_model = ResNet50(weights='imagenet', include_top=False, input_shape=input_shape)\n",
        "    base_model.trainable = False  # Freeze the weights of the pre-trained layers\n",
        "\n",
        "    model = Sequential([\n",
        "        base_model,\n",
        "        GlobalAveragePooling1D(),\n",
        "        Dense(256, activation='relu'),\n",
        "        Dropout(0.5),\n",
        "        Dense(num_classes, activation='softmax')\n",
        "    ])\n",
        "\n",
        "    return model\n",
        "\n",
        "# Create the ResNet-50 model for your specific input shape and number of classes\n",
        "input_shape = X_train.shape[1:]  # Shape of one ECG signal\n",
        "resnet50_model = create_resnet50(input_shape, num_classes)\n",
        "\n",
        "# Compile the model with Adam optimizer, a learning rate of 0.01, and categorical crossentropy loss\n",
        "adam_optimizer = Adam(lr=0.01)\n",
        "resnet50_model.compile(optimizer=adam_optimizer, loss='categorical_crossentropy', metrics=['accuracy'])\n",
        "\n",
        "# Train the model with a batch size of 128\n",
        "resnet50_model.fit(X_train, y_train, epochs=10, batch_size=128, validation_data=(X_test, y_test))\n",
        "\n",
        "# Evaluate the model\n",
        "accuracy = resnet50_model.evaluate(X_test, y_test)[1]\n",
        "print(f\"Test Accuracy: {accuracy * 100:.2f}%\")\n"
      ]
    }
  ]
}